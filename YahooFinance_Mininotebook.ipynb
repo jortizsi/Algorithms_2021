{
  "nbformat": 4,
  "nbformat_minor": 0,
  "metadata": {
    "colab": {
      "name": "YahooFinance_Mininotebook.ipynb",
      "provenance": []
    },
    "kernelspec": {
      "name": "python3",
      "display_name": "Python 3"
    }
  },
  "cells": [
    {
      "cell_type": "markdown",
      "metadata": {
        "id": "K99YiRofJxgd"
      },
      "source": [
        "##**Traer informacion bursatil desde Yahoo Finance**##"
      ]
    },
    {
      "cell_type": "markdown",
      "metadata": {
        "id": "kSOJvCd2OFQP"
      },
      "source": [
        "Algoritmos 2021-I UN"
      ]
    },
    {
      "cell_type": "markdown",
      "metadata": {
        "id": "EMiqDsdHN2jM"
      },
      "source": [
        "Adaptado de \r\n",
        "https://towardsdatascience.com/an-even-easier-guide-to-getting-stock-data-with-python-1a109df6b593\r\n",
        "\r\n",
        "\r\n",
        "\r\n",
        "\r\n"
      ]
    },
    {
      "cell_type": "markdown",
      "metadata": {
        "id": "q6oc0guaQmHm"
      },
      "source": [
        "Es posibe estudiar los precios de diversas acciones con las herramientas que nos brinda Python. Una estructura especialmente util son los dataframes. Asi mismo la libreria Matplotlib es muy util para la eleboracion de graficas."
      ]
    },
    {
      "cell_type": "markdown",
      "metadata": {
        "id": "Z2gj8oYOQ8qe"
      },
      "source": [
        "En este pequeño notebook mostramos el acceso y visualizacion de datos de Yahoo Finance de forma online sin hacer la importacion desde archivos subidos. Notese que tambien es posible y a veces mas conveniente utilizar hojas de excel para importar nuestros datos, como se vera mas adelante en la asignatura."
      ]
    },
    {
      "cell_type": "markdown",
      "metadata": {
        "id": "GsWvu2cVQ8kC"
      },
      "source": [
        ""
      ]
    },
    {
      "cell_type": "markdown",
      "metadata": {
        "id": "bhNJblx2PYvy"
      },
      "source": [
        "##**Plantilla**##"
      ]
    },
    {
      "cell_type": "code",
      "metadata": {
        "colab": {
          "base_uri": "https://localhost:8080/",
          "height": 532
        },
        "id": "ulQqotJjJvps",
        "outputId": "512b8c7c-3acd-41c0-c87e-cba20621e7cb"
      },
      "source": [
        "#INICIO PLANTILLA TRADING\r\n",
        "#________________________________________________\r\n",
        "#Microsoft entre 2012 y 2015\r\n",
        "\r\n",
        "# 1. Dataframe importando datos de Yahoo finance\r\n",
        "\r\n",
        "#Librerias\r\n",
        "from pandas_datareader import data as web\r\n",
        "import datetime\r\n",
        "import matplotlib.pyplot as plt\r\n",
        "\r\n",
        "#Generacion Dataframe con datos del Stock\r\n",
        "#Parametros(Codigo empresa, fuente de la info, inicio,fin)\r\n",
        "#Formato para la fecha: \"%m-%d-%Y\" mes-dia-año\r\n",
        "\r\n",
        "df = web.DataReader('MSFT', 'yahoo','1-1-2012','6-1-2015')\r\n",
        "print(df)\r\n",
        "\r\n",
        "#Nota: Se puede imprimir este dataframe de forma mas bonita en una celda aparte\r\n",
        "#y sin usar el metodo print\r\n",
        "\r\n",
        "#________________________________________________\r\n",
        "\r\n",
        "#2. Grafico\r\n",
        "\r\n",
        "X = df['Close']\r\n",
        "plt.plot(X.index, X.values)\r\n",
        "plt.ylabel('Close')\r\n",
        "plt.legend(['MSFT']);\r\n",
        "\r\n",
        "#______________________________________________\r\n",
        "#FIN PLANTILLA TRADING"
      ],
      "execution_count": 1,
      "outputs": [
        {
          "output_type": "stream",
          "text": [
            "                 High        Low       Open      Close      Volume  Adj Close\n",
            "Date                                                                         \n",
            "2012-01-03  26.959999  26.389999  26.549999  26.770000  64731500.0  21.799267\n",
            "2012-01-04  27.469999  26.780001  26.820000  27.400000  80516100.0  22.312283\n",
            "2012-01-05  27.730000  27.290001  27.379999  27.680000  56081400.0  22.540291\n",
            "2012-01-06  28.190001  27.530001  27.530001  28.110001  99455500.0  22.890448\n",
            "2012-01-09  28.100000  27.719999  28.049999  27.740000  59706800.0  22.589146\n",
            "...               ...        ...        ...        ...         ...        ...\n",
            "2015-05-26  46.880001  46.189999  46.830002  46.590000  29581900.0  41.857151\n",
            "2015-05-27  47.770000  46.619999  46.820000  47.610001  27335600.0  42.773540\n",
            "2015-05-28  48.020000  47.389999  47.500000  47.450001  19283700.0  42.629795\n",
            "2015-05-29  47.570000  46.590000  47.430000  46.860001  36519600.0  42.099728\n",
            "2015-06-01  47.770000  46.619999  47.060001  47.230000  28837300.0  42.432125\n",
            "\n",
            "[857 rows x 6 columns]\n"
          ],
          "name": "stdout"
        },
        {
          "output_type": "display_data",
          "data": {
            "image/png": "[encoded data removed]",
            "text/plain": [
              "<Figure size 432x288 with 1 Axes>"
            ]
          },
          "metadata": {
            "tags": [],
            "needs_background": "light"
          }
        }
      ]
    },
    {
      "cell_type": "code",
      "metadata": {
        "colab": {
          "base_uri": "https://localhost:8080/",
          "height": 428
        },
        "id": "fj4mQmiyLYDt",
        "outputId": "6d9d6bdb-6158-40bd-a0aa-75f6e28a6a16"
      },
      "source": [
        "df"
      ],
      "execution_count": 2,
      "outputs": [
        {
          "output_type": "execute_result",
          "data": {
            "text/html": [
              "<div>\n",
              "<style scoped>\n",
              "    .dataframe tbody tr th:only-of-type {\n",
              "        vertical-align: middle;\n",
              "    }\n",
              "\n",
              "    .dataframe tbody tr th {\n",
              "        vertical-align: top;\n",
              "    }\n",
              "\n",
              "    .dataframe thead th {\n",
              "        text-align: right;\n",
              "    }\n",
              "</style>\n",
              "<table border=\"1\" class=\"dataframe\">\n",
              "  <thead>\n",
              "    <tr style=\"text-align: right;\">\n",
              "      <th></th>\n",
              "      <th>High</th>\n",
              "      <th>Low</th>\n",
              "      <th>Open</th>\n",
              "      <th>Close</th>\n",
              "      <th>Volume</th>\n",
              "      <th>Adj Close</th>\n",
              "    </tr>\n",
              "    <tr>\n",
              "      <th>Date</th>\n",
              "      <th></th>\n",
              "      <th></th>\n",
              "      <th></th>\n",
              "      <th></th>\n",
              "      <th></th>\n",
              "      <th></th>\n",
              "    </tr>\n",
              "  </thead>\n",
              "  <tbody>\n",
              "    <tr>\n",
              "      <th>2012-01-03</th>\n",
              "      <td>26.959999</td>\n",
              "      <td>26.389999</td>\n",
              "      <td>26.549999</td>\n",
              "      <td>26.770000</td>\n",
              "      <td>64731500.0</td>\n",
              "      <td>21.799267</td>\n",
              "    </tr>\n",
              "    <tr>\n",
              "      <th>2012-01-04</th>\n",
              "      <td>27.469999</td>\n",
              "      <td>26.780001</td>\n",
              "      <td>26.820000</td>\n",
              "      <td>27.400000</td>\n",
              "      <td>80516100.0</td>\n",
              "      <td>22.312283</td>\n",
              "    </tr>\n",
              "    <tr>\n",
              "      <th>2012-01-05</th>\n",
              "      <td>27.730000</td>\n",
              "      <td>27.290001</td>\n",
              "      <td>27.379999</td>\n",
              "      <td>27.680000</td>\n",
              "      <td>56081400.0</td>\n",
              "      <td>22.540291</td>\n",
              "    </tr>\n",
              "    <tr>\n",
              "      <th>2012-01-06</th>\n",
              "      <td>28.190001</td>\n",
              "      <td>27.530001</td>\n",
              "      <td>27.530001</td>\n",
              "      <td>28.110001</td>\n",
              "      <td>99455500.0</td>\n",
              "      <td>22.890448</td>\n",
              "    </tr>\n",
              "    <tr>\n",
              "      <th>2012-01-09</th>\n",
              "      <td>28.100000</td>\n",
              "      <td>27.719999</td>\n",
              "      <td>28.049999</td>\n",
              "      <td>27.740000</td>\n",
              "      <td>59706800.0</td>\n",
              "      <td>22.589146</td>\n",
              "    </tr>\n",
              "    <tr>\n",
              "      <th>...</th>\n",
              "      <td>...</td>\n",
              "      <td>...</td>\n",
              "      <td>...</td>\n",
              "      <td>...</td>\n",
              "      <td>...</td>\n",
              "      <td>...</td>\n",
              "    </tr>\n",
              "    <tr>\n",
              "      <th>2015-05-26</th>\n",
              "      <td>46.880001</td>\n",
              "      <td>46.189999</td>\n",
              "      <td>46.830002</td>\n",
              "      <td>46.590000</td>\n",
              "      <td>29581900.0</td>\n",
              "      <td>41.857151</td>\n",
              "    </tr>\n",
              "    <tr>\n",
              "      <th>2015-05-27</th>\n",
              "      <td>47.770000</td>\n",
              "      <td>46.619999</td>\n",
              "      <td>46.820000</td>\n",
              "      <td>47.610001</td>\n",
              "      <td>27335600.0</td>\n",
              "      <td>42.773540</td>\n",
              "    </tr>\n",
              "    <tr>\n",
              "      <th>2015-05-28</th>\n",
              "      <td>48.020000</td>\n",
              "      <td>47.389999</td>\n",
              "      <td>47.500000</td>\n",
              "      <td>47.450001</td>\n",
              "      <td>19283700.0</td>\n",
              "      <td>42.629795</td>\n",
              "    </tr>\n",
              "    <tr>\n",
              "      <th>2015-05-29</th>\n",
              "      <td>47.570000</td>\n",
              "      <td>46.590000</td>\n",
              "      <td>47.430000</td>\n",
              "      <td>46.860001</td>\n",
              "      <td>36519600.0</td>\n",
              "      <td>42.099728</td>\n",
              "    </tr>\n",
              "    <tr>\n",
              "      <th>2015-06-01</th>\n",
              "      <td>47.770000</td>\n",
              "      <td>46.619999</td>\n",
              "      <td>47.060001</td>\n",
              "      <td>47.230000</td>\n",
              "      <td>28837300.0</td>\n",
              "      <td>42.432125</td>\n",
              "    </tr>\n",
              "  </tbody>\n",
              "</table>\n",
              "<p>857 rows × 6 columns</p>\n",
              "</div>"
            ],
            "text/plain": [
              "                 High        Low       Open      Close      Volume  Adj Close\n",
              "Date                                                                         \n",
              "2012-01-03  26.959999  26.389999  26.549999  26.770000  64731500.0  21.799267\n",
              "2012-01-04  27.469999  26.780001  26.820000  27.400000  80516100.0  22.312283\n",
              "2012-01-05  27.730000  27.290001  27.379999  27.680000  56081400.0  22.540291\n",
              "2012-01-06  28.190001  27.530001  27.530001  28.110001  99455500.0  22.890448\n",
              "2012-01-09  28.100000  27.719999  28.049999  27.740000  59706800.0  22.589146\n",
              "...               ...        ...        ...        ...         ...        ...\n",
              "2015-05-26  46.880001  46.189999  46.830002  46.590000  29581900.0  41.857151\n",
              "2015-05-27  47.770000  46.619999  46.820000  47.610001  27335600.0  42.773540\n",
              "2015-05-28  48.020000  47.389999  47.500000  47.450001  19283700.0  42.629795\n",
              "2015-05-29  47.570000  46.590000  47.430000  46.860001  36519600.0  42.099728\n",
              "2015-06-01  47.770000  46.619999  47.060001  47.230000  28837300.0  42.432125\n",
              "\n",
              "[857 rows x 6 columns]"
            ]
          },
          "metadata": {
            "tags": []
          },
          "execution_count": 2
        }
      ]
    },
    {
      "cell_type": "markdown",
      "metadata": {
        "id": "OSPgjZeLRh08"
      },
      "source": [
        "##**Otros ejemplos interesantes**##"
      ]
    },
    {
      "cell_type": "markdown",
      "metadata": {
        "id": "nVIL7SddK4x1"
      },
      "source": [
        "**Apple entre enero del 2018 y enero del 2021**"
      ]
    },
    {
      "cell_type": "code",
      "metadata": {
        "colab": {
          "base_uri": "https://localhost:8080/",
          "height": 532
        },
        "id": "IyJh70LdKAHU",
        "outputId": "aec5e3ad-a3c3-4213-9b09-1c3372592193"
      },
      "source": [
        "df2 = web.DataReader('AAPL', 'yahoo','1-1-2019','1-28-2020')\r\n",
        "\r\n",
        "X2 = df2['Close']\r\n",
        "print(df2)\r\n",
        "plt.plot(X2.index, X2.values)\r\n",
        "plt.ylabel('Close')\r\n",
        "plt.legend(['AAPL']);"
      ],
      "execution_count": 3,
      "outputs": [
        {
          "output_type": "stream",
          "text": [
            "                 High        Low       Open      Close       Volume  Adj Close\n",
            "Date                                                                          \n",
            "2019-01-02  39.712502  38.557499  38.722500  39.480000  148158800.0  38.505024\n",
            "2019-01-03  36.430000  35.500000  35.994999  35.547501  365248800.0  34.669640\n",
            "2019-01-04  37.137501  35.950001  36.132500  37.064999  234428400.0  36.149662\n",
            "2019-01-07  37.207500  36.474998  37.174999  36.982498  219111200.0  36.069202\n",
            "2019-01-08  37.955002  37.130001  37.389999  37.687500  164101200.0  36.756794\n",
            "...               ...        ...        ...        ...          ...        ...\n",
            "2020-01-22  79.997498  79.327499  79.644997  79.425003  101832400.0  78.627464\n",
            "2020-01-23  79.889999  78.912498  79.480003  79.807503  104472000.0  79.006119\n",
            "2020-01-24  80.832497  79.379997  80.062500  79.577499  146537600.0  78.778435\n",
            "2020-01-27  77.942497  76.220001  77.514999  77.237503  161940000.0  76.461929\n",
            "2020-01-28  79.599998  78.047501  78.150002  79.422501  162234000.0  78.624992\n",
            "\n",
            "[270 rows x 6 columns]\n"
          ],
          "name": "stdout"
        },
        {
          "output_type": "display_data",
          "data": {
            "image/png": "[encoded data removed]",
            "text/plain": [
              "<Figure size 432x288 with 1 Axes>"
            ]
          },
          "metadata": {
            "tags": [],
            "needs_background": "light"
          }
        }
      ]
    },
    {
      "cell_type": "markdown",
      "metadata": {
        "id": "_VpJQzo0MvCq"
      },
      "source": [
        "**Gamestop entre septiembre del 2020 y febrero del 2021**"
      ]
    },
    {
      "cell_type": "code",
      "metadata": {
        "colab": {
          "base_uri": "https://localhost:8080/",
          "height": 532
        },
        "id": "boGGIyWIKPOb",
        "outputId": "22cd3fe7-26a2-43df-8c1b-1f90d7329006"
      },
      "source": [
        "df3 = web.DataReader('GME', 'yahoo','9-1-2020','2-28-2021')\r\n",
        "\r\n",
        "X3 = df3['Close']\r\n",
        "print(df3)\r\n",
        "plt.plot(X3.index, X3.values)\r\n",
        "plt.ylabel('Close')\r\n",
        "plt.legend(['GME']);"
      ],
      "execution_count": 4,
      "outputs": [
        {
          "output_type": "stream",
          "text": [
            "                  High         Low  ...     Volume   Adj Close\n",
            "Date                                ...                       \n",
            "2020-09-01    7.820000    6.770000  ...   23211000    7.650000\n",
            "2020-09-02    8.050000    7.110000  ...   13011100    7.710000\n",
            "2020-09-03    8.450000    7.240000  ...   14344500    7.820000\n",
            "2020-09-04    7.920000    7.170000  ...    7662000    7.650000\n",
            "2020-09-08    8.280000    7.480000  ...    9816600    7.700000\n",
            "...                ...         ...  ...        ...         ...\n",
            "2021-02-22   48.509998   42.400002  ...   19476000   46.000000\n",
            "2021-02-23   46.230000   40.000000  ...    7565200   44.970001\n",
            "2021-02-24   91.709999   44.700001  ...   83111700   91.709999\n",
            "2021-02-25  184.679993  101.000000  ...  150308800  108.730003\n",
            "2021-02-26  142.899994   86.000000  ...   91963000  101.739998\n",
            "\n",
            "[123 rows x 6 columns]\n"
          ],
          "name": "stdout"
        },
        {
          "output_type": "display_data",
          "data": {
            "image/png": "[encoded data removed]",
            "text/plain": [
              "<Figure size 432x288 with 1 Axes>"
            ]
          },
          "metadata": {
            "tags": [],
            "needs_background": "light"
          }
        }
      ]
    },
    {
      "cell_type": "markdown",
      "metadata": {
        "id": "qUWaiRh4O_IL"
      },
      "source": [
        "**Boeing entre noviembre del 2019 y enero del 2021**"
      ]
    },
    {
      "cell_type": "code",
      "metadata": {
        "colab": {
          "base_uri": "https://localhost:8080/",
          "height": 532
        },
        "id": "hyZEj4x9M9pC",
        "outputId": "dc366b7d-81b6-47e3-cb6d-f0e0cbfaf3ad"
      },
      "source": [
        "df4 = web.DataReader('BA', 'yahoo','11-1-2019','1-1-2021')\r\n",
        "\r\n",
        "X4 = df4['Close']\r\n",
        "print(df4)\r\n",
        "plt.plot(X4.index, X4.values)\r\n",
        "plt.ylabel('Close')\r\n",
        "plt.legend(['BA']);"
      ],
      "execution_count": 5,
      "outputs": [
        {
          "output_type": "stream",
          "text": [
            "                  High         Low  ...      Volume   Adj Close\n",
            "Date                                ...                        \n",
            "2019-11-01  345.190002  339.500000  ...   3538200.0  341.157440\n",
            "2019-11-04  351.450012  346.049988  ...   3703000.0  346.988495\n",
            "2019-11-05  361.609985  353.190002  ...   5468900.0  354.104401\n",
            "2019-11-06  359.399994  353.130005  ...   3815700.0  350.052307\n",
            "2019-11-07  359.399994  355.049988  ...   2834500.0  355.196686\n",
            "...                ...         ...  ...         ...         ...\n",
            "2020-12-24  219.880005  216.050003  ...   6398500.0  217.149994\n",
            "2020-12-28  219.199997  215.160004  ...   9090600.0  216.089996\n",
            "2020-12-29  221.679993  215.399994  ...  14593800.0  216.250000\n",
            "2020-12-30  218.550003  214.369995  ...  10812600.0  216.669998\n",
            "2020-12-31  216.899994  212.699997  ...  10487600.0  214.059998\n",
            "\n",
            "[294 rows x 6 columns]\n"
          ],
          "name": "stdout"
        },
        {
          "output_type": "display_data",
          "data": {
            "image/png": "[encoded data removed]",
            "text/plain": [
              "<Figure size 432x288 with 1 Axes>"
            ]
          },
          "metadata": {
            "tags": [],
            "needs_background": "light"
          }
        }
      ]
    },
    {
      "cell_type": "code",
      "metadata": {
        "id": "EUQwi8LrOuwg"
      },
      "source": [
        ""
      ],
      "execution_count": 5,
      "outputs": []
    }
  ]
}